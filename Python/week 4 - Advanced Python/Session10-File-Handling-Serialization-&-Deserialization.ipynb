{
 "cells": [
  {
   "cell_type": "markdown",
   "id": "b99fc843",
   "metadata": {},
   "source": [
    "### Some Theory\n",
    "### Types of data used for I/O\n",
    "\n",
    "- Text - '12345' as a sequence of unicode chars\n",
    "- Binary - 12345 as a sequence of bytes of it's binary equivalent\n",
    "\n",
    "Hence there are 2 file types to deal with\n",
    "\n",
    "- Text files - All program files are text files\n",
    "- Binary files - Images, Music, video, exe files"
   ]
  },
  {
   "cell_type": "markdown",
   "id": "ce3e0041",
   "metadata": {},
   "source": [
    "### How file I/O is done in most programming languages\n",
    "\n",
    "- Open a file\n",
    "- Read/Write data\n",
    "- Close the file"
   ]
  },
  {
   "cell_type": "markdown",
   "id": "78777e81",
   "metadata": {},
   "source": [
    "### Writing to a file"
   ]
  },
  {
   "cell_type": "code",
   "execution_count": 7,
   "id": "15d6a812",
   "metadata": {},
   "outputs": [],
   "source": [
    "# case 1- if the file is not present\n",
    "f=open('sample.txt','w') # we can create file at any location like this open(python/addon/sample.txt)\n",
    "f.write(\"Hello world\")\n",
    "f.close()\n",
    "# now f.write() doesn't work since file is closed."
   ]
  },
  {
   "cell_type": "code",
   "execution_count": null,
   "id": "9bca4ca2",
   "metadata": {},
   "outputs": [],
   "source": [
    "# write multiple strings\n",
    "f=open('sample1.txt','w')\n",
    "f.write(\"Hello world\")\n",
    "f.write(\"\\n how are you?\")\n",
    "f.close()"
   ]
  },
  {
   "cell_type": "code",
   "execution_count": 8,
   "id": "d7593411",
   "metadata": {},
   "outputs": [],
   "source": [
    "# case 2- if the file is already present\n",
    "f=open('sample.txt','w')# give full path of the file\n",
    "f.write('Salman Khan')# note this will override the previous content of the file.\n",
    "f.close()"
   ]
  },
  {
   "cell_type": "code",
   "execution_count": null,
   "id": "148c86be",
   "metadata": {},
   "outputs": [],
   "source": [
    "# how exaclty open() works?\n",
    "# the files are residing in the secondary storage\n",
    "# on hitting open() method python loads the file into the RAM memory(in buffer memory, buffer:- reads character line by line)\n",
    "# as soon as the the close() method is hit python unloades the file from RAM"
   ]
  },
  {
   "cell_type": "code",
   "execution_count": 9,
   "id": "86e20f26",
   "metadata": {},
   "outputs": [],
   "source": [
    "# Problem with w mode: as discussed above it override the previous content\n",
    "# introducing append mode\n",
    "f=open('sample1.txt','a')# a-> append mode\n",
    "f.write(\"Lol the world is crazy\")\n",
    "f.close()"
   ]
  },
  {
   "cell_type": "code",
   "execution_count": 10,
   "id": "6e2f63bb",
   "metadata": {},
   "outputs": [],
   "source": [
    "# wirte many lines\n",
    "L=[\"\\nHello\\n\",\"ji\\n\",\"kee\\n\",\"haal\\n\",\"chaal\\n\"]\n",
    "\n",
    "f=open('sample.txt','w')\n",
    "f.writelines(L)\n",
    "f.close()"
   ]
  },
  {
   "cell_type": "code",
   "execution_count": 11,
   "id": "31cd1a42",
   "metadata": {},
   "outputs": [
    {
     "name": "stdout",
     "output_type": "stream",
     "text": [
      "\n",
      "Hello\n",
      "ji\n",
      "kee\n",
      "haal\n",
      "chaal\n",
      "\n"
     ]
    }
   ],
   "source": [
    "# readng from files\n",
    "#-> using read()\n",
    "f=open('sample.txt','r')\n",
    "s=f.read()\n",
    "print(s)\n",
    "f.close()"
   ]
  },
  {
   "cell_type": "code",
   "execution_count": 12,
   "id": "65e151da",
   "metadata": {},
   "outputs": [
    {
     "name": "stdout",
     "output_type": "stream",
     "text": [
      "\n",
      "Hello\n",
      "ji\n",
      "\n"
     ]
    }
   ],
   "source": [
    "# reading upto n chars\n",
    "f=open('sample.txt','r')\n",
    "s=f.read(10)\n",
    "print(s)\n",
    "f.close()"
   ]
  },
  {
   "cell_type": "code",
   "execution_count": 17,
   "id": "07923275",
   "metadata": {},
   "outputs": [
    {
     "name": "stdout",
     "output_type": "stream",
     "text": [
      "Hello world\n",
      " how are you?Lol the world is crazy"
     ]
    }
   ],
   "source": [
    "# readlines()-> to read line by line\n",
    "f=open('sample1.txt','r')\n",
    "print(f.readline(),end=\"\")\n",
    "print(f.readline(),end=\"\")\n",
    "f.close()"
   ]
  },
  {
   "cell_type": "code",
   "execution_count": 18,
   "id": "dc696718",
   "metadata": {},
   "outputs": [
    {
     "name": "stdout",
     "output_type": "stream",
     "text": [
      "\n",
      "\n",
      "Hello\n",
      "\n",
      "ji\n",
      "\n",
      "kee\n",
      "\n",
      "haal\n",
      "\n",
      "chaal\n",
      "\n"
     ]
    }
   ],
   "source": [
    "# reading entire using readline\n",
    "f=open('sample.txt','r')\n",
    "while True:\n",
    "    data=f.readline()\n",
    "    if data==\"\":\n",
    "        break\n",
    "    else:\n",
    "        print(data)\n",
    "f.close()"
   ]
  },
  {
   "cell_type": "markdown",
   "id": "c4f93eb6",
   "metadata": {},
   "source": [
    "### Using Context Manager(With)\n",
    "\n",
    "- it's a good idea to close a file after usage as it will free up the resources\n",
    "- If we don't close it, garbage collector would close it\n",
    "- with keyword closes the file as soon as the uasge is over"
   ]
  },
  {
   "cell_type": "code",
   "execution_count": 19,
   "id": "dcd9b5e3",
   "metadata": {},
   "outputs": [],
   "source": [
    "# with\n",
    "with open('sample1.txt','w') as f:\n",
    "    f.write(\"Jimmy Jimmy\")"
   ]
  },
  {
   "cell_type": "code",
   "execution_count": 20,
   "id": "62bf22ef",
   "metadata": {},
   "outputs": [
    {
     "name": "stdout",
     "output_type": "stream",
     "text": [
      "Jimmy Jimmy\n"
     ]
    }
   ],
   "source": [
    "# try f.read() now\n",
    "with open('sample1.txt','r') as f:\n",
    "    print(f.read())"
   ]
  },
  {
   "cell_type": "code",
   "execution_count": null,
   "id": "32209700",
   "metadata": {},
   "outputs": [
    {
     "name": "stdout",
     "output_type": "stream",
     "text": [
      "Jimmy Jimm\n",
      "y\n"
     ]
    }
   ],
   "source": [
    "# moving within a file -> 10 char then 10 char\n",
    "with open('sample1.txt','r') as f:\n",
    "    print(f.read(10))\n",
    "    print(f.read(10))# next 10 chars will be printed\n",
    "    "
   ]
  },
  {
   "cell_type": "code",
   "execution_count": 31,
   "id": "9747e763",
   "metadata": {},
   "outputs": [
    {
     "name": "stdout",
     "output_type": "stream",
     "text": [
      "o World\n",
      "Hello World\n",
      "Hello World\n",
      "Hello World\n",
      "Hello World\n",
      "Hello World\n",
      "Hello World\n",
      "Hello World\n",
      "Hello Wo\n",
      "o World\n",
      "Hello World\n",
      "Hello World\n",
      "Hello World\n",
      "Hello World\n",
      "Hello World\n",
      "Hello World\n",
      "Hello World\n",
      "Hello Wo\n",
      "o World\n",
      "Hello World\n",
      "Hello World\n",
      "Hello World\n",
      "Hello World\n",
      "Hello World\n",
      "Hello World\n",
      "Hello World\n",
      "Hello Wo\n",
      "o World\n",
      "Hello World\n",
      "Hello World\n",
      "Hello World\n",
      "Hello World\n",
      "Hello World\n",
      "Hello World\n",
      "Hello World\n",
      "Hello Wo\n",
      "o World\n",
      "Hello World\n",
      "Hello World\n",
      "Hello World\n",
      "Hello World\n",
      "Hello World\n",
      "Hello World\n",
      "Hello World\n",
      "Hello Wo\n",
      "o World\n",
      "Hello World\n",
      "Hello World\n",
      "Hello World\n",
      "Hello World\n",
      "Hello World\n",
      "Hello World\n",
      "Hello World\n",
      "Hello Wo\n",
      "o World\n",
      "Hello World\n",
      "Hello World\n",
      "Hello World\n",
      "Hello World\n",
      "Hello World\n",
      "Hello World\n",
      "Hello World\n",
      "Hello Wo\n",
      "o World\n",
      "Hello World\n",
      "Hello World\n",
      "Hello World\n",
      "Hello World\n",
      "Hello World\n",
      "Hello World\n",
      "Hello World\n",
      "Hello Wo\n",
      "o World\n",
      "Hello World\n",
      "Hello World\n",
      "Hello World\n",
      "Hello World\n",
      "Hello World\n",
      "Hello World\n",
      "Hello World\n",
      "Hello Wo\n",
      "o World\n",
      "Hello World\n",
      "Hello World\n",
      "Hello World\n",
      "Hello World\n",
      "Hello World\n",
      "Hello World\n",
      "Hello World\n",
      "Hello Wo\n",
      "o World\n",
      "Hello World\n",
      "Hello World\n",
      "Hello World\n",
      "Hello World\n",
      "Hello World\n",
      "Hello World\n",
      "Hello World\n",
      "Hello Wo\n",
      "o World\n",
      "Hello World\n",
      "Hello World\n",
      "Hello World\n",
      "Hello World\n",
      "Hello World\n",
      "Hello World\n",
      "Hello World\n",
      "Hello Wo\n",
      "o World\n",
      "Hello World\n",
      "Hello World\n",
      "Hello World\n",
      "Hello World\n",
      "Hello World\n",
      "Hello World\n",
      "Hello World\n",
      "Hello Wo\n",
      "o World\n",
      "Hello World\n",
      "Hello World\n",
      "Hello World\n",
      "Hello World\n",
      "Hello World\n",
      "Hello World\n",
      "Hello World\n",
      "Hello Wo\n",
      "o World\n",
      "Hello World\n",
      "Hello World\n",
      "Hello World\n",
      "Hello World\n",
      "Hello World\n",
      "Hello World\n",
      "Hello World\n",
      "Hello Wo\n",
      "o World\n",
      "Hello World\n",
      "Hello World\n",
      "Hello World\n",
      "Hello World\n",
      "Hello World\n",
      "Hello World\n",
      "Hello World\n",
      "Hello Wo\n",
      "o World\n",
      "Hello World\n",
      "Hello World\n",
      "Hello World\n",
      "Hello World\n",
      "Hello World\n",
      "Hello World\n",
      "Hello World\n",
      "Hello Wo\n",
      "o World\n",
      "Hello World\n",
      "Hello World\n",
      "Hello World\n",
      "Hello World\n",
      "Hello World\n",
      "Hello World\n",
      "Hello World\n",
      "Hello Wo\n",
      "o World\n",
      "Hello World\n",
      "Hello World\n",
      "Hello World\n",
      "Hello World\n",
      "Hello World\n",
      "Hello World\n",
      "Hello World\n",
      "Hello Wo\n",
      "o World\n",
      "Hello World\n",
      "Hello World\n",
      "Hello World\n",
      "Hello World\n",
      "Hello World\n",
      "Hello World\n",
      "Hello World\n",
      "Hello Wo\n",
      "o World\n",
      "Hello World\n",
      "Hello World\n",
      "Hello World\n",
      "Hello World\n",
      "Hello World\n",
      "Hello World\n",
      "Hello World\n",
      "Hello Wo\n",
      "o World\n",
      "Hello World\n",
      "Hello World\n",
      "Hello World\n",
      "Hello World\n",
      "Hello World\n",
      "Hello World\n",
      "Hello World\n",
      "Hello Wo\n",
      "o World\n",
      "Hello World\n",
      "Hello World\n",
      "Hello World\n",
      "Hello World\n",
      "Hello World\n",
      "Hello World\n",
      "Hello World\n",
      "Hello Wo\n",
      "o World\n",
      "Hello World\n",
      "Hello World\n",
      "Hello World\n",
      "Hello World\n",
      "Hello World\n",
      "Hello World\n",
      "Hello World\n",
      "Hello Wo\n",
      "o World\n",
      "Hello World\n",
      "Hello World\n",
      "Hello World\n",
      "Hello World\n",
      "Hello World\n",
      "Hello World\n",
      "Hello World\n",
      "Hello Wo\n",
      "o World\n",
      "Hello World\n",
      "Hello World\n",
      "Hello World\n",
      "Hello World\n",
      "Hello World\n",
      "Hello World\n",
      "Hello World\n",
      "Hello Wo\n",
      "o World\n",
      "Hello World\n",
      "Hello World\n",
      "Hello World\n",
      "Hello World\n",
      "Hello World\n",
      "Hello World\n",
      "Hello World\n",
      "Hello Wo\n",
      "o World\n",
      "Hello World\n",
      "Hello World\n",
      "Hello World\n",
      "Hello World\n",
      "Hello World\n",
      "Hello World\n",
      "Hello World\n",
      "Hello Wo\n",
      "o World\n",
      "Hello World\n",
      "Hello World\n",
      "Hello World\n",
      "Hello World\n",
      "Hello World\n",
      "Hello World\n",
      "Hello World\n",
      "Hello Wo\n",
      "o World\n",
      "Hello World\n",
      "Hello World\n",
      "Hello World\n",
      "Hello World\n",
      "Hello World\n",
      "Hello World\n",
      "Hello World\n",
      "Hello Wo\n",
      "o World\n",
      "Hello World\n",
      "Hello World\n",
      "Hello World\n",
      "Hello World\n",
      "Hello World\n",
      "Hello World\n",
      "Hello World\n",
      "Hello Wo\n",
      "o World\n",
      "Hello World\n",
      "Hello World\n",
      "Hello World\n",
      "Hello World\n",
      "Hello World\n",
      "Hello World\n",
      "Hello World\n",
      "Hello Wo\n",
      "o World\n",
      "Hello World\n",
      "Hello World\n",
      "Hello World\n",
      "Hello World\n",
      "Hello World\n",
      "Hello World\n",
      "Hello World\n",
      "Hello Wo\n",
      "o World\n",
      "Hello World\n",
      "Hello World\n",
      "Hello World\n",
      "Hello World\n",
      "Hello World\n",
      "Hello World\n",
      "Hello World\n",
      "Hello Wo\n",
      "o World\n",
      "Hello World\n",
      "Hello World\n",
      "Hello World\n",
      "Hello World\n",
      "Hello World\n",
      "Hello World\n",
      "Hello World\n",
      "Hello Wo\n",
      "o World\n",
      "Hello World\n",
      "Hello World\n",
      "Hello World\n",
      "Hello World\n",
      "Hello World\n",
      "Hello World\n",
      "Hello World\n",
      "Hello Wo\n",
      "o World\n",
      "Hello World\n",
      "Hello World\n",
      "Hello World\n",
      "Hello World\n",
      "Hello World\n",
      "Hello World\n",
      "Hello World\n",
      "Hello Wo\n",
      "o World\n",
      "Hello World\n",
      "Hello World\n",
      "Hello World\n",
      "Hello World\n",
      "Hello World\n",
      "Hello World\n",
      "Hello World\n",
      "Hello Wo\n",
      "o World\n",
      "Hello World\n",
      "Hello World\n",
      "Hello World\n",
      "Hello World\n",
      "Hello World\n",
      "Hello World\n",
      "Hello World\n",
      "Hello Wo\n",
      "o World\n",
      "Hello World\n",
      "Hello World\n",
      "Hello World\n",
      "Hello World\n",
      "Hello World\n",
      "Hello World\n",
      "Hello World\n",
      "Hello Wo\n"
     ]
    }
   ],
   "source": [
    "# benefit?-> to load a big file in memory\n",
    "big_L=[\"Hello World\\n\" for i in range(0,1000)]\n",
    "with open('sample.txt','w') as f:\n",
    "    f.writelines(big_L)\n",
    "\n",
    "with open('sample.txt','r') as f:\n",
    "    chunk_size=100\n",
    "    while len(f.read(chunk_size))>0:\n",
    "        print(f.read(chunk_size))\n",
    "        f.read(chunk_size)"
   ]
  },
  {
   "cell_type": "code",
   "execution_count": 33,
   "id": "5e12abe9",
   "metadata": {},
   "outputs": [
    {
     "name": "stdout",
     "output_type": "stream",
     "text": [
      "Hello Worl\n",
      "10\n",
      "Hello Worl\n",
      "10\n"
     ]
    }
   ],
   "source": [
    "# seek and tell function\n",
    "with open('sample.txt','r') as f:\n",
    "    print(f.read(10))\n",
    "    print(f.tell())# tells the number of character fetch from the file.\n",
    "    f.seek(0)# takes back point to 0th char\n",
    "    print(f.read(10))\n",
    "    print(f.tell())"
   ]
  },
  {
   "cell_type": "code",
   "execution_count": null,
   "id": "6510192f",
   "metadata": {},
   "outputs": [],
   "source": [
    "# seek during write\n",
    "with open('sample.txt','w') as f:\n",
    "    f.write(\"Hello\")\n",
    "    f.seek(0)\n",
    "    f.write('x') # output xello"
   ]
  },
  {
   "cell_type": "markdown",
   "id": "fb4e0428",
   "metadata": {},
   "source": [
    "### Problem with working in text mode\n",
    "\n",
    "- can't work with binary files like images.\n",
    "- not good for other data types like int/float/list/tuples"
   ]
  },
  {
   "cell_type": "code",
   "execution_count": null,
   "id": "7fd96079",
   "metadata": {},
   "outputs": [],
   "source": [
    "# Working with binary files:- rb and wb\n",
    "with open('screenShot1.jpg','rb') as f:\n",
    "    with open('screenshot_copy.jpg','wb') as wf:\n",
    "        wf.write(f.read())"
   ]
  },
  {
   "cell_type": "code",
   "execution_count": null,
   "id": "c7b3cec8",
   "metadata": {},
   "outputs": [],
   "source": [
    "# working with big binary files\n"
   ]
  },
  {
   "cell_type": "code",
   "execution_count": 39,
   "id": "3bbd8777",
   "metadata": {},
   "outputs": [
    {
     "ename": "TypeError",
     "evalue": "write() argument must be str, not int",
     "output_type": "error",
     "traceback": [
      "\u001b[31m---------------------------------------------------------------------------\u001b[39m",
      "\u001b[31mTypeError\u001b[39m                                 Traceback (most recent call last)",
      "\u001b[36mCell\u001b[39m\u001b[36m \u001b[39m\u001b[32mIn[39]\u001b[39m\u001b[32m, line 4\u001b[39m\n\u001b[32m      1\u001b[39m \u001b[38;5;66;03m# working with other data types\u001b[39;00m\n\u001b[32m      3\u001b[39m \u001b[38;5;28;01mwith\u001b[39;00m \u001b[38;5;28mopen\u001b[39m(\u001b[33m'\u001b[39m\u001b[33msample1.txt\u001b[39m\u001b[33m'\u001b[39m,\u001b[33m'\u001b[39m\u001b[33mw\u001b[39m\u001b[33m'\u001b[39m) \u001b[38;5;28;01mas\u001b[39;00m f:\n\u001b[32m----> \u001b[39m\u001b[32m4\u001b[39m     \u001b[43mf\u001b[49m\u001b[43m.\u001b[49m\u001b[43mwrite\u001b[49m\u001b[43m(\u001b[49m\u001b[32;43m5\u001b[39;49m\u001b[43m)\u001b[49m\u001b[38;5;66;03m# throws an erro beause we can't write it other data type\u001b[39;00m\n",
      "\u001b[31mTypeError\u001b[39m: write() argument must be str, not int"
     ]
    }
   ],
   "source": [
    "# working with other data types\n",
    "\n",
    "with open('sample1.txt','w') as f:\n",
    "    f.write(5)# throws an erro beause we can't write it other data type"
   ]
  },
  {
   "cell_type": "code",
   "execution_count": 40,
   "id": "bb33a2e9",
   "metadata": {},
   "outputs": [],
   "source": [
    "with open('sample1.txt','w') as f:\n",
    "    f.write('5')"
   ]
  },
  {
   "cell_type": "markdown",
   "id": "89876530",
   "metadata": {},
   "source": [
    "### Serialization and Deserialization\n",
    "\n",
    "- Serialization - process of converting python data types to JSON format\n",
    "- Deserialization - process of converting JSON to python data types."
   ]
  },
  {
   "cell_type": "code",
   "execution_count": 43,
   "id": "a92a4cc3",
   "metadata": {},
   "outputs": [],
   "source": [
    "# Serialization Using json module\n",
    "import json\n",
    "L=[1,2,3,4,5,6,7,8,9,0]\n",
    "with open('demo.json','w') as f:\n",
    "    json.dump(L,f)\n",
    "dict={\n",
    "    \"name\":\"Rajat\",\n",
    "    \"Age\":\"23\",\n",
    "    \"Broken?\":\"yes\"\n",
    "}\n",
    "with open('demo.json','w') as f:\n",
    "    json.dump(dict,f, indent=4)\n"
   ]
  },
  {
   "cell_type": "code",
   "execution_count": null,
   "id": "286dac36",
   "metadata": {},
   "outputs": [
    {
     "name": "stdout",
     "output_type": "stream",
     "text": [
      "{'name': 'Rajat', 'Age': '23', 'Broken?': 'yes'}\n"
     ]
    }
   ],
   "source": [
    "# Deserialization\n",
    "import json\n",
    "\n",
    "with open('demo.json','r') as f:\n",
    "    print(json.load(f))"
   ]
  },
  {
   "cell_type": "code",
   "execution_count": null,
   "id": "48dbf108",
   "metadata": {},
   "outputs": [],
   "source": [
    "# Serialize and deserialize tuple\n",
    "import json\n",
    "tup=(1,2,3,4,5)\n",
    "with open('demo.json','w') as f:\n",
    "    json.dump(tup,f) # tuple are serialized and deserialized as list in the file but we can convet it back into tuple using tuple(L1)\n",
    "    "
   ]
  },
  {
   "cell_type": "code",
   "execution_count": 45,
   "id": "9766d365",
   "metadata": {},
   "outputs": [],
   "source": [
    "# Serialize and deserialize a nested dictionary\n",
    "d={\n",
    "    \"student\":\"ram\",\n",
    "    \"marks\":[23,24,56,44]\n",
    "}\n",
    "with open('demo.json','w') as f:\n",
    "    json.dump(d,f)"
   ]
  },
  {
   "cell_type": "markdown",
   "id": "e89289cc",
   "metadata": {},
   "source": [
    "### Serializing and deserializing Custom objects"
   ]
  },
  {
   "cell_type": "code",
   "execution_count": 46,
   "id": "fdfb8755",
   "metadata": {},
   "outputs": [],
   "source": [
    "class Person:\n",
    "    def __init__(self,fname, lname, age, gender):\n",
    "        self.fname=fname\n",
    "        self.lname=lname\n",
    "        self.age=age\n",
    "        self.gender=gender\n",
    "\n",
    "# format to printed in\n",
    "# -> Nitish Singh age->33 gender->male"
   ]
  },
  {
   "cell_type": "code",
   "execution_count": 47,
   "id": "0f9f70ff",
   "metadata": {},
   "outputs": [],
   "source": [
    "person=Person('Nitish','Singh',33,'male')"
   ]
  },
  {
   "cell_type": "code",
   "execution_count": null,
   "id": "ea35a178",
   "metadata": {},
   "outputs": [],
   "source": [
    "# As a String\n",
    "import json\n",
    "def showObject(person):\n",
    "    if isinstance(person,Person):\n",
    "        return \"{} {} age->{} gender->{}\".format(person.fname, person.lname, person.age, person.gender)\n",
    "with open('demo.json','w') as f:\n",
    "    json.dump(person,f,default=showObject)"
   ]
  },
  {
   "cell_type": "code",
   "execution_count": 50,
   "id": "c209040a",
   "metadata": {},
   "outputs": [],
   "source": [
    "# indent attriute\n",
    "# as a dictionary\n",
    "import json\n",
    "def showObject(person):\n",
    "    if isinstance(person,Person):\n",
    "        return {\n",
    "            'name':person.fname+' '+person.lname,\n",
    "            'age':person.age,\n",
    "            'gender':person.gender\n",
    "        }\n",
    "with open('demo.json','w') as f:\n",
    "    json.dump(person,f,default=showObject, indent=4)"
   ]
  },
  {
   "cell_type": "code",
   "execution_count": 52,
   "id": "7ff8ae0b",
   "metadata": {},
   "outputs": [
    {
     "name": "stdout",
     "output_type": "stream",
     "text": [
      "{'name': 'Nitish Singh', 'age': 33, 'gender': 'male'}\n"
     ]
    }
   ],
   "source": [
    "# deserializing\n",
    "import json\n",
    "with open('demo.json','r') as f:\n",
    "    print(json.load(f))"
   ]
  },
  {
   "cell_type": "markdown",
   "id": "185a966d",
   "metadata": {},
   "source": [
    "### Pickling\n",
    "\n",
    "```Pickling``` is the process of whereby a Python object hierarchy is convrted into a byte stream, and\n",
    "```unpickling``` is the inverse operation, whereby a byte stream(from a binary file or bytes-like object) is\n",
    "converted back into an object hierarchy."
   ]
  },
  {
   "cell_type": "code",
   "execution_count": 55,
   "id": "e016763e",
   "metadata": {},
   "outputs": [],
   "source": [
    "class Persons:\n",
    "    def __init__(self,name,age):\n",
    "        self.name=name\n",
    "        self.age=age\n",
    "    def display_info(self):\n",
    "        print('Hi my name is', self.name, 'and I am ', self.age, 'years old')"
   ]
  },
  {
   "cell_type": "code",
   "execution_count": null,
   "id": "80cb7f78",
   "metadata": {},
   "outputs": [],
   "source": [
    "p=Persons('Rajat',23)\n",
    "# convert into binary\n"
   ]
  },
  {
   "cell_type": "code",
   "execution_count": null,
   "id": "18986916",
   "metadata": {},
   "outputs": [],
   "source": [
    "# pickling dump\n",
    "import pickle\n",
    "with open('person.pkl','wb') as f:\n",
    "    pickle.dump(p,f)"
   ]
  },
  {
   "cell_type": "code",
   "execution_count": 57,
   "id": "c3ac5ccd",
   "metadata": {},
   "outputs": [
    {
     "name": "stdout",
     "output_type": "stream",
     "text": [
      "Hi my name is Rajat and I am  23 years old\n"
     ]
    }
   ],
   "source": [
    "# picking load\n",
    "with open('person.pkl','rb') as f:\n",
    "    p=pickle.load(f)\n",
    "p.display_info()"
   ]
  },
  {
   "cell_type": "markdown",
   "id": "f7dd2775",
   "metadata": {},
   "source": [
    "### Pickle vs JSON\n",
    "\n",
    "- Pickle lets the user to store data in binary format. \n",
    "- JSON lets the user store data in a human-readable text fromat."
   ]
  },
  {
   "cell_type": "code",
   "execution_count": null,
   "id": "cc6f5e0e",
   "metadata": {},
   "outputs": [],
   "source": []
  }
 ],
 "metadata": {
  "kernelspec": {
   "display_name": "Python 3",
   "language": "python",
   "name": "python3"
  },
  "language_info": {
   "codemirror_mode": {
    "name": "ipython",
    "version": 3
   },
   "file_extension": ".py",
   "mimetype": "text/x-python",
   "name": "python",
   "nbconvert_exporter": "python",
   "pygments_lexer": "ipython3",
   "version": "3.12.6"
  }
 },
 "nbformat": 4,
 "nbformat_minor": 5
}
